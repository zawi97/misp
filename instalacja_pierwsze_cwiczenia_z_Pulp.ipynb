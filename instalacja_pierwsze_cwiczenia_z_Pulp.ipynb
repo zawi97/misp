{
 "cells": [
  {
   "cell_type": "code",
   "execution_count": null,
   "metadata": {
    "colab": {
     "base_uri": "https://localhost:8080/",
     "height": 215
    },
    "id": "BjX-mj9e8D5a",
    "outputId": "a53b8a45-9e84-4a48-fa91-5597eeb80850"
   },
   "outputs": [
    {
     "name": "stdout",
     "output_type": "stream",
     "text": [
      "Requirement already satisfied: pulp in /usr/local/lib/python3.6/dist-packages (2.3)\n",
      "Requirement already satisfied: amply>=0.1.2 in /usr/local/lib/python3.6/dist-packages (from pulp) (0.1.4)\n",
      "Requirement already satisfied: pyparsing in /usr/local/lib/python3.6/dist-packages (from amply>=0.1.2->pulp) (2.4.7)\n",
      "Requirement already satisfied: docutils>=0.3 in /usr/local/lib/python3.6/dist-packages (from amply>=0.1.2->pulp) (0.16)\n",
      "Reading package lists... Done\n",
      "Building dependency tree       \n",
      "Reading state information... Done\n",
      "coinor-cbc is already the newest version (2.9.9+repack1-1).\n",
      "coinor-clp is already the newest version (1.16.11+repack1-1).\n",
      "glpk-utils is already the newest version (4.65-1).\n",
      "0 upgraded, 0 newly installed, 0 to remove and 21 not upgraded.\n"
     ]
    }
   ],
   "source": [
    "!pip install pulp\n",
    "\n",
    "!sudo apt-get install coinor-cbc glpk-utils coinor-clp\n"
   ]
  },
  {
   "cell_type": "code",
   "execution_count": null,
   "metadata": {
    "colab": {
     "base_uri": "https://localhost:8080/",
     "height": 35
    },
    "id": "HMGiufp89W-9",
    "outputId": "9e6761ea-6310-4ebe-ec96-bffc23a0215c"
   },
   "outputs": [
    {
     "name": "stdout",
     "output_type": "stream",
     "text": [
      "2.3\n"
     ]
    }
   ],
   "source": [
    "### kod sprawdza czy instalacja się udała\n",
    "import pulp\n",
    "\n",
    "print(pulp.__version__)"
   ]
  },
  {
   "cell_type": "code",
   "execution_count": null,
   "metadata": {
    "colab": {
     "base_uri": "https://localhost:8080/",
     "height": 1000
    },
    "id": "05p9Frax-V2f",
    "outputId": "15f6160b-c4cc-46ba-d7eb-aa23416c0ac5"
   },
   "outputs": [
    {
     "name": "stderr",
     "output_type": "stream",
     "text": [
      "..............."
     ]
    },
    {
     "name": "stdout",
     "output_type": "stream",
     "text": [
      "Solver <class 'pulp.apis.coin_api.PULP_CBC_CMD'> available\n",
      "Solver <class 'pulp.apis.cplex_api.CPLEX_DLL'> unavailable\n",
      "Solver <class 'pulp.apis.cplex_api.CPLEX_CMD'> unavailable\n",
      "Solver <class 'pulp.apis.cplex_api.CPLEX_PY'> unavailable\n",
      "Solver <class 'pulp.apis.coin_api.COIN_CMD'> available\n",
      "Solver <class 'pulp.apis.coin_api.COINMP_DLL'> unavailable\n",
      "Solver <class 'pulp.apis.glpk_api.GLPK_CMD'> available\n",
      "Solver <class 'pulp.apis.xpress_api.XPRESS'> unavailable\n",
      "Solver <class 'pulp.apis.gurobi_api.GUROBI'> unavailable\n",
      "Solver <class 'pulp.apis.gurobi_api.GUROBI_CMD'> unavailable\n",
      "Solver <class 'pulp.apis.glpk_api.PYGLPK'> unavailable\n",
      "Solver <class 'pulp.apis.coin_api.YAPOSIB'> unavailable\n",
      "Solver <class 'pulp.apis.choco_api.PULP_CHOCO_CMD'> available\n",
      "Solver <class 'pulp.apis.choco_api.CHOCO_CMD'> unavailable\n",
      "Solver <class 'pulp.apis.mipcl_api.MIPCL_CMD'> unavailable\n",
      "Solver <class 'pulp.apis.mosek_api.MOSEK'> unavailable\n",
      "\t Testing invalid status\n",
      "\t Testing continuous LP solution\n",
      "\t Testing MIP solution\n",
      "\t Testing maximize continuous LP solution\n",
      "\t Testing continuous LP solution\n",
      "\t Testing continuous LP solution\n",
      "\t Testing continuous LP solution\n",
      "\t Testing makeDict general behavior\n",
      "\t Testing makeDict default value behavior\n",
      "\t Testing the availability of the function pulpTestAll\n",
      "\t Testing zero subtraction\n",
      "\t Testing inconsistant lp solution\n",
      "\t Testing continuous LP solution\n",
      "\t Testing maximize continuous LP solution\n",
      "\t Testing unbounded continuous LP solution\n"
     ]
    },
    {
     "name": "stderr",
     "output_type": "stream",
     "text": [
      ".............."
     ]
    },
    {
     "name": "stdout",
     "output_type": "stream",
     "text": [
      "\t Testing Long Names\n",
      "\t Testing repeated Names\n",
      "\t Testing zero constraint\n",
      "\t Testing zero objective\n",
      "\t Testing LpVariable (not LpAffineExpression) objective\n",
      "\t Testing Long lines in LP\n",
      "\t Testing LpAffineExpression divide\n",
      "\t Testing MIP solution\n",
      "\t Testing MIP solution with floats in objective\n",
      "\t Testing MIP solution\n",
      "\t Testing MIP solution\n",
      "\t Testing MIP relaxation\n",
      "\t Testing feasibility problem (no objective)\n",
      "\t Testing an infeasible problem\n"
     ]
    },
    {
     "name": "stderr",
     "output_type": "stream",
     "text": [
      "..............."
     ]
    },
    {
     "name": "stdout",
     "output_type": "stream",
     "text": [
      "\t Testing an integer infeasible problem\n",
      "\t Testing another integer infeasible problem\n",
      "\t Testing column based modelling\n",
      "\t Testing dual variables and slacks reporting\n",
      "\t Testing fractional constraints\n",
      "\t Testing elastic constraints (no change)\n",
      "\t Testing elastic constraints (freebound)\n",
      "\t Testing elastic constraints (penalty unchanged)\n",
      "\t Testing elastic constraints (penalty unbounded)\n",
      "\t Testing invalid status\n",
      "\t Testing continuous LP solution\n"
     ]
    },
    {
     "name": "stderr",
     "output_type": "stream",
     "text": [
      "..............."
     ]
    },
    {
     "name": "stdout",
     "output_type": "stream",
     "text": [
      "\t Testing MIP solution\n",
      "\t Testing maximize continuous LP solution\n",
      "\t Testing continuous LP solution\n",
      "\t Testing continuous LP solution\n",
      "\t Testing continuous LP solution\n",
      "\t Testing makeDict general behavior\n",
      "\t Testing makeDict default value behavior\n",
      "\t Testing the availability of the function pulpTestAll\n",
      "\t Testing zero subtraction\n",
      "\t Testing inconsistant lp solution\n",
      "\t Testing continuous LP solution\n",
      "\t Testing maximize continuous LP solution\n",
      "\t Testing unbounded continuous LP solution\n"
     ]
    },
    {
     "name": "stderr",
     "output_type": "stream",
     "text": [
      ".........."
     ]
    },
    {
     "name": "stdout",
     "output_type": "stream",
     "text": [
      "\t Testing Long Names\n",
      "\t Testing repeated Names\n",
      "\t Testing zero constraint\n",
      "\t Testing zero objective\n",
      "\t Testing LpVariable (not LpAffineExpression) objective\n",
      "\t Testing Long lines in LP\n",
      "\t Testing LpAffineExpression divide\n",
      "\t Testing MIP solution\n",
      "\t Testing MIP solution with floats in objective\n",
      "\t Testing MIP solution\n",
      "\t Testing MIP solution\n"
     ]
    },
    {
     "name": "stderr",
     "output_type": "stream",
     "text": [
      ".............."
     ]
    },
    {
     "name": "stdout",
     "output_type": "stream",
     "text": [
      "\t Testing MIP relaxation\n",
      "\t Testing feasibility problem (no objective)\n",
      "\t Testing an infeasible problem\n",
      "\t Testing an integer infeasible problem\n",
      "\t Testing another integer infeasible problem\n",
      "\t Testing column based modelling\n",
      "\t Testing fractional constraints\n",
      "\t Testing elastic constraints (no change)\n",
      "\t Testing elastic constraints (freebound)\n",
      "\t Testing elastic constraints (penalty unchanged)\n"
     ]
    },
    {
     "name": "stderr",
     "output_type": "stream",
     "text": [
      "....................."
     ]
    },
    {
     "name": "stdout",
     "output_type": "stream",
     "text": [
      "\t Testing elastic constraints (penalty unbounded)\n",
      "\t Testing invalid status\n",
      "\t Testing continuous LP solution\n",
      "\t Testing MIP solution\n",
      "\t Testing maximize continuous LP solution\n",
      "\t Testing continuous LP solution\n",
      "\t Testing continuous LP solution\n",
      "\t Testing continuous LP solution\n",
      "\t Testing makeDict general behavior\n",
      "\t Testing makeDict default value behavior\n",
      "\t Testing the availability of the function pulpTestAll\n",
      "\t Testing zero subtraction\n",
      "\t Testing inconsistant lp solution\n",
      "\t Testing continuous LP solution\n",
      "\t Testing maximize continuous LP solution\n",
      "\t Testing unbounded continuous LP solution\n",
      "\t Testing Long Names\n",
      "\t Testing repeated Names\n",
      "\t Testing zero constraint\n"
     ]
    },
    {
     "name": "stderr",
     "output_type": "stream",
     "text": [
      "..................."
     ]
    },
    {
     "name": "stdout",
     "output_type": "stream",
     "text": [
      "\t Testing zero objective\n",
      "\t Testing LpVariable (not LpAffineExpression) objective\n",
      "\t Testing LpAffineExpression divide\n",
      "\t Testing MIP solution\n",
      "\t Testing MIP solution with floats in objective\n",
      "\t Testing MIP solution\n",
      "\t Testing MIP solution\n",
      "\t Testing MIP relaxation\n",
      "\t Testing feasibility problem (no objective)\n",
      "\t Testing an infeasible problem\n",
      "\t Testing an integer infeasible problem\n",
      "\t Testing another integer infeasible problem\n",
      "\t Testing column based modelling\n",
      "\t Testing fractional constraints\n"
     ]
    },
    {
     "name": "stderr",
     "output_type": "stream",
     "text": [
      "......."
     ]
    },
    {
     "name": "stdout",
     "output_type": "stream",
     "text": [
      "\t Testing elastic constraints (no change)\n",
      "\t Testing elastic constraints (freebound)\n",
      "\t Testing elastic constraints (penalty unchanged)\n",
      "\t Testing elastic constraints (penalty unbounded)\n",
      "\t Testing invalid status\n",
      "\t Testing continuous LP solution\n"
     ]
    },
    {
     "name": "stderr",
     "output_type": "stream",
     "text": [
      "."
     ]
    },
    {
     "name": "stdout",
     "output_type": "stream",
     "text": [
      "\t Testing MIP solution\n"
     ]
    },
    {
     "name": "stderr",
     "output_type": "stream",
     "text": [
      "."
     ]
    },
    {
     "name": "stdout",
     "output_type": "stream",
     "text": [
      "\t Testing maximize continuous LP solution\n"
     ]
    },
    {
     "name": "stderr",
     "output_type": "stream",
     "text": [
      "."
     ]
    },
    {
     "name": "stdout",
     "output_type": "stream",
     "text": [
      "\t Testing continuous LP solution\n"
     ]
    },
    {
     "name": "stderr",
     "output_type": "stream",
     "text": [
      "."
     ]
    },
    {
     "name": "stdout",
     "output_type": "stream",
     "text": [
      "\t Testing continuous LP solution\n"
     ]
    },
    {
     "name": "stderr",
     "output_type": "stream",
     "text": [
      "."
     ]
    },
    {
     "name": "stdout",
     "output_type": "stream",
     "text": [
      "\t Testing continuous LP solution\n"
     ]
    },
    {
     "name": "stderr",
     "output_type": "stream",
     "text": [
      "......."
     ]
    },
    {
     "name": "stdout",
     "output_type": "stream",
     "text": [
      "\t Testing makeDict general behavior\n",
      "\t Testing makeDict default value behavior\n",
      "\t Testing the availability of the function pulpTestAll\n",
      "\t Testing zero subtraction\n",
      "\t Testing inconsistant lp solution\n",
      "\t Testing continuous LP solution\n"
     ]
    },
    {
     "name": "stderr",
     "output_type": "stream",
     "text": [
      "."
     ]
    },
    {
     "name": "stdout",
     "output_type": "stream",
     "text": [
      "\t Testing maximize continuous LP solution\n"
     ]
    },
    {
     "name": "stderr",
     "output_type": "stream",
     "text": [
      ".."
     ]
    },
    {
     "name": "stdout",
     "output_type": "stream",
     "text": [
      "\t Testing unbounded continuous LP solution\n",
      "\t Testing Long Names\n"
     ]
    },
    {
     "name": "stderr",
     "output_type": "stream",
     "text": [
      ".."
     ]
    },
    {
     "name": "stdout",
     "output_type": "stream",
     "text": [
      "\t Testing repeated Names\n",
      "\t Testing zero constraint\n"
     ]
    },
    {
     "name": "stderr",
     "output_type": "stream",
     "text": [
      "."
     ]
    },
    {
     "name": "stdout",
     "output_type": "stream",
     "text": [
      "\t Testing zero objective\n"
     ]
    },
    {
     "name": "stderr",
     "output_type": "stream",
     "text": [
      "."
     ]
    },
    {
     "name": "stdout",
     "output_type": "stream",
     "text": [
      "\t Testing LpVariable (not LpAffineExpression) objective\n"
     ]
    },
    {
     "name": "stderr",
     "output_type": "stream",
     "text": [
      ".."
     ]
    },
    {
     "name": "stdout",
     "output_type": "stream",
     "text": [
      "\t Testing LpAffineExpression divide\n"
     ]
    },
    {
     "name": "stderr",
     "output_type": "stream",
     "text": [
      "."
     ]
    },
    {
     "name": "stdout",
     "output_type": "stream",
     "text": [
      "\t Testing MIP solution\n"
     ]
    },
    {
     "name": "stderr",
     "output_type": "stream",
     "text": [
      "."
     ]
    },
    {
     "name": "stdout",
     "output_type": "stream",
     "text": [
      "\t Testing MIP solution with floats in objective\n"
     ]
    },
    {
     "name": "stderr",
     "output_type": "stream",
     "text": [
      "."
     ]
    },
    {
     "name": "stdout",
     "output_type": "stream",
     "text": [
      "\t Testing MIP solution\n"
     ]
    },
    {
     "name": "stderr",
     "output_type": "stream",
     "text": [
      "."
     ]
    },
    {
     "name": "stdout",
     "output_type": "stream",
     "text": [
      "\t Testing MIP solution\n"
     ]
    },
    {
     "name": "stderr",
     "output_type": "stream",
     "text": [
      "./usr/local/lib/python3.6/dist-packages/pulp/apis/choco_api.py:83: UserWarning: CHOCO_CMD cannot solve the relaxation of a problem\n",
      "  warnings.warn(\"CHOCO_CMD cannot solve the relaxation of a problem\")\n"
     ]
    },
    {
     "name": "stdout",
     "output_type": "stream",
     "text": [
      "\t Testing MIP relaxation\n"
     ]
    },
    {
     "name": "stderr",
     "output_type": "stream",
     "text": [
      "."
     ]
    },
    {
     "name": "stdout",
     "output_type": "stream",
     "text": [
      "\t Testing feasibility problem (no objective)\n"
     ]
    },
    {
     "name": "stderr",
     "output_type": "stream",
     "text": [
      "."
     ]
    },
    {
     "name": "stdout",
     "output_type": "stream",
     "text": [
      "\t Testing an infeasible problem\n"
     ]
    },
    {
     "name": "stderr",
     "output_type": "stream",
     "text": [
      "."
     ]
    },
    {
     "name": "stdout",
     "output_type": "stream",
     "text": [
      "\t Testing an integer infeasible problem\n"
     ]
    },
    {
     "name": "stderr",
     "output_type": "stream",
     "text": [
      "."
     ]
    },
    {
     "name": "stdout",
     "output_type": "stream",
     "text": [
      "\t Testing another integer infeasible problem\n"
     ]
    },
    {
     "name": "stderr",
     "output_type": "stream",
     "text": [
      "."
     ]
    },
    {
     "name": "stdout",
     "output_type": "stream",
     "text": [
      "\t Testing column based modelling\n"
     ]
    },
    {
     "name": "stderr",
     "output_type": "stream",
     "text": [
      "....."
     ]
    },
    {
     "name": "stdout",
     "output_type": "stream",
     "text": [
      "\t Testing fractional constraints\n"
     ]
    },
    {
     "name": "stderr",
     "output_type": "stream",
     "text": [
      "."
     ]
    },
    {
     "name": "stdout",
     "output_type": "stream",
     "text": [
      "\t Testing elastic constraints (no change)\n"
     ]
    },
    {
     "name": "stderr",
     "output_type": "stream",
     "text": [
      "."
     ]
    },
    {
     "name": "stdout",
     "output_type": "stream",
     "text": [
      "\t Testing elastic constraints (freebound)\n"
     ]
    },
    {
     "name": "stderr",
     "output_type": "stream",
     "text": [
      "."
     ]
    },
    {
     "name": "stdout",
     "output_type": "stream",
     "text": [
      "\t Testing elastic constraints (penalty unchanged)\n"
     ]
    },
    {
     "name": "stderr",
     "output_type": "stream",
     "text": [
      "....................."
     ]
    },
    {
     "name": "stdout",
     "output_type": "stream",
     "text": [
      "\t Testing elastic constraints (penalty unbounded)\n",
      "{'a': 53.0, 'b': 45.3, 'c': 459.2}\n"
     ]
    },
    {
     "name": "stderr",
     "output_type": "stream",
     "text": [
      ".........................\n",
      "----------------------------------------------------------------------\n",
      "Ran 215 tests in 37.954s\n",
      "\n",
      "OK\n"
     ]
    }
   ],
   "source": [
    "pulp.pulpTestAll()"
   ]
  },
  {
   "cell_type": "markdown",
   "metadata": {
    "id": "JHP3Y3Yh-stH"
   },
   "source": [
    "# Zadania:\n",
    "\n",
    "1. przeczytaj materiały dotyczące pulp ze strony internetowej https://coin-or.github.io/pulp/main/index.html oraz przejdź przez blending problem (przepisz do swojego notebooka)\n",
    "\n",
    "2. w blending problem dodaj zmienną decyzyjną. Stwórz zmienną która pojawi się w końcowym składzie produktu (tj. wartość zmiennej będzie miała niezerową postać)\n",
    "\n",
    "3. Dodaj ograniczenie co do zawartości witaminy B \n",
    "\n",
    "Zawartość:\n",
    "\n",
    "| Nazwa      | zawartość ug/100g |\n",
    "|------------|-------------------|\n",
    "| chicken    | 0.3               |\n",
    "| beef       | 2.6               |\n",
    "| mutton     | 2.6               |\n",
    "| rice       | 0                 |\n",
    "| wheat bran | 0                 |\n",
    "| gel        | 0                 |\n",
    "| sardines   | 8.9               |\n",
    "\n",
    "Kot ma zjeść minimum 0.24 ug na kilogram masy więc około\n",
    "0.8 ug dziennie\n",
    "\n",
    "4. Na końcu ma pojawiać się zdanie podsumowujące wynik, w stylu:\n",
    "Końcowy produkt będzie kosztować {}, będzie miał w składzie {nazwa}: {} %, {nastepna nazwa}: {} %\n",
    "\n",
    "Takie zdanie można skleić z części generowanych automatycznie:\n",
    "\n"
   ]
  },
  {
   "cell_type": "code",
   "execution_count": 8,
   "metadata": {
    "colab": {
     "base_uri": "https://localhost:8080/",
     "height": 53
    },
    "id": "BhWf9b8IMJZ7",
    "outputId": "c4e437d7-32da-4e82-b320-cbbfe1a50941"
   },
   "outputs": [
    {
     "name": "stdout",
     "output_type": "stream",
     "text": [
      "['jabłko:5', 'banan:10']\n",
      "jabłko:5, banan:10\n"
     ]
    }
   ],
   "source": [
    "sklejone_produkt_cena = [\":\".join((produkt, str(cena))) for produkt,cena in zip([\"jabłko\",\"banan\"],[5,10])]\n",
    "print(sklejone_produkt_cena)\n",
    "sklejona_calosc = \", \".join(sklejone_produkt_cena)\n",
    "\n",
    "print(sklejona_calosc)"
   ]
  },
  {
   "cell_type": "code",
   "execution_count": null,
   "metadata": {
    "id": "Se_t7o8bTLdW"
   },
   "outputs": [],
   "source": []
  }
 ],
 "metadata": {
  "colab": {
   "collapsed_sections": [],
   "name": "instalacja pierwsze ćwiczenia z Pulp",
   "provenance": []
  },
  "kernelspec": {
   "display_name": "Python 3",
   "language": "python",
   "name": "python3"
  },
  "language_info": {
   "codemirror_mode": {
    "name": "ipython",
    "version": 3
   },
   "file_extension": ".py",
   "mimetype": "text/x-python",
   "name": "python",
   "nbconvert_exporter": "python",
   "pygments_lexer": "ipython3",
   "version": "3.8.3"
  }
 },
 "nbformat": 4,
 "nbformat_minor": 1
}
