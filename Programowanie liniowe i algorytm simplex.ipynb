{
 "cells": [
  {
   "cell_type": "markdown",
   "metadata": {},
   "source": [
    "# Programowanie Liniowe i algorytm simplex\n",
    "\n",
    "Problem:\n",
    "\n",
    "Przed świętem zmarłych producent planuje produkcje. Produkowane są dwa typy zniczy -- tradycyjny oraz nowoczesny.\n",
    "Na pojedyńczej partii zniczy tradycyjnych producent zarabia 2000 zł a na nowoczesnych 2500 zł. Znicze wymagają wykorzystania maszyny (ekstrudera plastiku), gdzie jedna partia tradycyjnych zniczy wymaga 120 kg a nowoczesnych 200 kg plastiku. Jako, że producent posiada tylko jeden samochód dostawczy, dziennie jest w stanie dowieść 18000 kg materiału. Z racji małej dostępności specjalnych dodatków poprawiających biodegradowalność nowoczesnych zniczy można ich dziennie wykonać maksymalnie 80 partii.  \n",
    "\n",
    "Dodatkowo, wydajność maszyny pozwala na produkcję maksymalnie partii 5 tradycyjnych lub 10 nowoczesnych zniczy na godzinę. Fabryka działa na 2 zmiany (16 godzin)\n",
    "\n",
    "Jak powinien dobrać produkcję producent aby zmaksymalizować zysk?"
   ]
  },
  {
   "cell_type": "markdown",
   "metadata": {},
   "source": [
    "# Kroki analizowania problemu\n",
    "\n",
    " 1. Identyfikacja zmiennych decyzyjnych (decision variables)\n",
    " 2. Określenie funkcji celu ( objective function)\n",
    " 3. Określenie ograniczeń podanych wprost ( explicit constraints) oraz domniemanych (implicit constraints)\n",
    " 4. Rozwiązanie problemu\n",
    " 5. Analiza rozwiązania i ew. modyfikacja problemu"
   ]
  },
  {
   "cell_type": "markdown",
   "metadata": {},
   "source": [
    "## Dla naszego problemu\n",
    "\n",
    "### Zmienne decyzyjne\n",
    "\n",
    "Ilość partii zniczy tradycyjnych x_1\n",
    "Ilość partii zniczy nowoczesnych x_2\n",
    "\n",
    "### Funkcja celu\n",
    "\n",
    "Maksymalizacja (dziennego) zysku\n",
    "\n",
    "max Z = 2*x_1 + 2.5*x_2\n",
    "\n",
    "### Ograniczenia podane wprost\n",
    "\n",
    "Ograniczenie ilości plastiku 1.2*x_1+2*x_2 <= 180\n",
    "Wydajność maszyn 0.2*x_1+0.1*x_2<= 16\n",
    "Ograniczona ilość dodatków x_2<=80\n",
    "### Ograniczenia domniemane\n",
    "\n",
    "x_1>=0 x_2>=0"
   ]
  },
  {
   "cell_type": "code",
   "execution_count": 28,
   "metadata": {},
   "outputs": [
    {
     "data": {
      "text/plain": [
       "<matplotlib.legend.Legend at 0x7f96d8253320>"
      ]
     },
     "execution_count": 28,
     "metadata": {},
     "output_type": "execute_result"
    },
    {
     "data": {
      "image/png": "[encoded data removed]",
      "text/plain": [
       "<Figure size 432x288 with 1 Axes>"
      ]
     },
     "metadata": {},
     "output_type": "display_data"
    }
   ],
   "source": [
    "import numpy as np\n",
    "import matplotlib.pyplot as plt\n",
    "%matplotlib inline\n",
    "\n",
    "\n",
    "x = np.linspace(0, 100, 2000)\n",
    "\n",
    "y1 = (180-1.2*x)/2\n",
    "y2 = (16-0.2*x)*10\n",
    "y3 = 0*x+80\n",
    "\n",
    "# Make plot\n",
    "plt.plot(x, y1, label=r'$1.2*x_1+2*x_2 <= 180$')\n",
    "plt.plot(x, y2, label=r'$0.2*x_1+0.1*x_2<= 16$')\n",
    "plt.plot(x, y3, label=r'$x_2<=80$')\n",
    "plt.xlim((0, 100))\n",
    "plt.ylim((0, 200))\n",
    "plt.xlabel(r'$x_1$')\n",
    "plt.ylabel(r'$x_2$')\n",
    "\n",
    "# Fill feasible region\n",
    "y5 = np.maximum(y1, 0)\n",
    "y6 = np.maximum(y2, 0)\n",
    "plt.fill_between(x,0, y5, color='black', alpha=0.33)\n",
    "plt.fill_between(x,0, y6, color='black', alpha=0.33)\n",
    "plt.fill_between(x,0, y3, color='black', alpha=0.33)\n",
    "\n",
    "plt.legend(bbox_to_anchor=(1.05, 1), loc=2, borderaxespad=0.)"
   ]
  },
  {
   "cell_type": "markdown",
   "metadata": {},
   "source": [
    "# Algorytm simplex\n",
    "\n",
    "Zapisujemy program w postaci dopełnieniowej (augmented form)\n",
    "\n",
    "$z-2*x_1 - 2.5*x_2=0$\n",
    "\n",
    "$1.2*x_1+2*x_2+x_3 = 180$\n",
    "\n",
    "$0.2*x_1+0.1*x_2+x_4= 16$\n",
    "\n",
    "$x_2 +x_5=80$\n",
    "\n",
    "$x_1, x_2, x_3,x_4,x_5>=0$\n",
    "\n",
    "$x_1=0, x_2=0, x_3=180, x_4=16, x_5=80$\n",
    "jest dopuszczalnym (feasable) rozwiązniem zerowym (możemy zainicjalizować algorytm podstawiając pod x_1 i x_2 zero -initial basic feasable solution)\n",
    "\n",
    "### Sprawdzian optymalności\n",
    "Współczynniki stojące przy niebazowych zmiennych równania na Z ($ Z=2*x_1 +2.5 x_2$) są dodatnie a więc rozwiązanie nie jest optymalne.\n",
    "\n",
    "Największy współczynnik (2.5) stoi przy zmiennej niebazowej x_2 a więc będziemy się poruszać w kierunku dodatnim wzdłuż osi x_2. x_2 staje się zmienną wchodzącą (entering basic variable)\n",
    "\n",
    "### Minimum ratio test\n",
    "\n",
    "Dla wszystkich ograniczeń poszukujemy najmniejszego x_2 dla którego któraś ze zmiennych bazowych staje się 0\n",
    "\n",
    "$x_2= min (90,160,80) = 80$ dla którego x_5 staje się równa 0, staje się zmienną niebazową (zmienną wchodzącą). x_2 staje się zaś zmienną bazową.\n",
    "\n",
    "### Przekształcenie równań\n",
    "\n",
    "Dokonujemy przekształceń (eliminacja Gaussa) równań, aby w równaniu w którym występuje z, występowały tylko zmienne niebazowe, zaś współczynniki równań dla zmiennych bazowych w pozostałych równaniach mają być równe 1 \n",
    "\n",
    "$z-2*x_1 +2.5*x_5=200$\n",
    "\n",
    "$1.2*x_1+x_3-2*x5 = 20$\n",
    "\n",
    "$0.2*x_1+x_4-0.1*x_5= 8$\n",
    "\n",
    "$x_2 +x_5=80$\n",
    "\n",
    "### Kolejna iteracja\n",
    "\n",
    "Rozwiązanie nie jest optymalne bo współczynnik przy x_1 jest dodatni. x_1 staje się zmienną wchodzącą\n",
    "\n",
    "\n",
    "#### Minimum ratio test\n",
    "$x_1= min(16  \\frac{2}{3}, 40)= 16 \\frac{2}{3} $ x_3 staje się zmienną wychodzącą\n",
    "\n",
    "#### Eliminacja Gaussa\n",
    "\n",
    "$z+\\frac{5}{3} x_3 -\\frac{5}{6}*x_5=\\frac{700}{3}$\n",
    "\n",
    "$x_1+\\frac{5}{6}x_3-\\frac{5}{3}*x_5 = \\frac{50}{3}$\n",
    "\n",
    "$-\\frac{1}{6}x_3+x_4+\\frac{7}{30}*x_5= \\frac{14}{3}$\n",
    "\n",
    "$x_2 +x_5=80$\n",
    "\n",
    "Nadal jest to rozwiązanie nieoptymalne, gdyż przy x_5 jest (dodatni) współczynnik $5/6$, a więc zwiększając x_5 można zwiększyć Z\n",
    "\n",
    "x_5=min(20,80)=20 (dla rosnącego x_5 x_1 będzie zawsze dodatnie), x_4 staje się zmienną wychodzącą\n",
    "\n",
    "stąd równiania przyjmą formę\n",
    "\n",
    "$ z+ \\frac{15}{14} x_3 + \\frac{25}{7} x_4 = 250 $\n",
    "\n",
    "$x_1 -5/14 x_3+50/7 x_4 = 50$\n",
    "\n",
    "$-5/7 x_3 +30/7 x_4 + x+5 = 20$\n",
    "\n",
    "$x_2+5/7 x_3-30/7 x_4= 60$\n",
    "\n",
    "Dla równania $z= 250 - \\frac{15}{14} x_3 - \\frac{25}{7} x_4$ współczynniki przy obu zmiennych niebazowych są ujemne jest to więc rozwiązanie optymalne. Ma ono postać $x_1= 50, x_2 =60, x_3=0, x_4=0, x_5=20$\n",
    "\n",
    "Współczynniki przy zmiennych niebazowych to tzw shadow prices, które pokazują jaką wartość mają ograniczenia. Zwiększając o 1 (czyli 100 kg) ilość plastiku zwiększymy zysk o $15/14$ (około 1071)  a zwiększając o 1 wydajność maszyn (np. pracując dodatkową godzinę) o $25/7$ (3571).\n",
    "\n",
    "Mamy także wartość tzw. slack variables (tj. x_3, x_4, x_5), które mówią nam jakie mamy marginesy. W szczególności margines x_5=20 sugeruje, że nawet gdyby przez niedostępność dodatków maksymalnie można byłoby wyprodukować 60 partii nowoczesnych zniczy (a nie 80) nasz zysk nie zmieniłby się. "
   ]
  },
  {
   "cell_type": "markdown",
   "metadata": {},
   "source": [
    "# Rozwiązanie problemu za pomocą biblioteki pulp"
   ]
  },
  {
   "cell_type": "code",
   "execution_count": 70,
   "metadata": {},
   "outputs": [],
   "source": [
    "import pulp\n",
    "\n",
    "problem_znicze = pulp.LpProblem(\"Problem znicze\", pulp.LpMaximize)\n",
    "\n",
    "x_1 = pulp.LpVariable('x_1', lowBound=0, cat='Continuous')\n",
    "x_2 = pulp.LpVariable('x_2', lowBound=0, cat='Continuous')"
   ]
  },
  {
   "cell_type": "code",
   "execution_count": 71,
   "metadata": {},
   "outputs": [],
   "source": [
    "# Objective function\n",
    "problem_znicze += 2 * x_1 + 2.5 * x_2, \"Z\"\n",
    "\n",
    "# Constraints\n",
    "problem_znicze += 1.2*x_1+2*x_2 <= 180, \"ilosc plastiku\"\n",
    "problem_znicze += 0.2*x_1+0.1*x_2<= 16, \"wydajnosc maszyn\"\n",
    "problem_znicze += x_2<=80, \"ilosc dodatkow\"\n"
   ]
  },
  {
   "cell_type": "code",
   "execution_count": 72,
   "metadata": {},
   "outputs": [
    {
     "data": {
      "text/plain": [
       "Problem znicze:\n",
       "MAXIMIZE\n",
       "2*x_1 + 2.5*x_2 + 0.0\n",
       "SUBJECT TO\n",
       "ilosc_plastiku: 1.2 x_1 + 2 x_2 <= 180\n",
       "\n",
       "wydajnosc_maszyn: 0.2 x_1 + 0.1 x_2 <= 16\n",
       "\n",
       "ilosc_dodatkow: x_2 <= 80\n",
       "\n",
       "VARIABLES\n",
       "x_1 Continuous\n",
       "x_2 Continuous"
      ]
     },
     "execution_count": 72,
     "metadata": {},
     "output_type": "execute_result"
    }
   ],
   "source": [
    "problem_znicze"
   ]
  },
  {
   "cell_type": "code",
   "execution_count": 73,
   "metadata": {},
   "outputs": [
    {
     "data": {
      "text/plain": [
       "1"
      ]
     },
     "execution_count": 73,
     "metadata": {},
     "output_type": "execute_result"
    }
   ],
   "source": [
    "problem_znicze.solve()"
   ]
  },
  {
   "cell_type": "code",
   "execution_count": 74,
   "metadata": {},
   "outputs": [
    {
     "name": "stdout",
     "output_type": "stream",
     "text": [
      "x_1 = 50.0\n",
      "x_2 = 60.0\n"
     ]
    }
   ],
   "source": [
    "for variable in problem_znicze.variables():\n",
    "    print(\"{} = {}\".format(variable.name, variable.varValue))"
   ]
  },
  {
   "cell_type": "code",
   "execution_count": 75,
   "metadata": {
    "collapsed": true
   },
   "outputs": [
    {
     "name": "stdout",
     "output_type": "stream",
     "text": [
      "250.0\n"
     ]
    }
   ],
   "source": [
    "print(pulp.value(problem_znicze.objective))\n"
   ]
  },
  {
   "cell_type": "markdown",
   "metadata": {},
   "source": [
    "Dla kame"
   ]
  },
  {
   "cell_type": "code",
   "execution_count": 98,
   "metadata": {},
   "outputs": [
    {
     "name": "stdout",
     "output_type": "stream",
     "text": [
      "\n",
      "Sensitivity Analysis\n",
      "\n",
      "        Name\tConstraint\t\t\tShadow Price\t\tSlack\n",
      "ilosc_plastiku    : 1.2*x_1 + 2*x_2 <= 180.0          1.0714286         -0.0      \n",
      "wydajnosc_maszyn  : 0.2*x_1 + 0.1*x_2 <= 16.0         3.5714286         -0.0      \n",
      "ilosc_dodatkow    : x_2 <= 80                         -0.0              20.0      \n"
     ]
    }
   ],
   "source": [
    "print(\"\"\"\\nSensitivity Analysis\\n\n",
    "        Name\\tConstraint\\t\\t\\tShadow Price\\t\\tSlack\"\"\")\n",
    "for name, c in problem_znicze.constraints.items():\n",
    "    print(str(name).ljust(17), \":\", str(c).ljust(33), str(c.pi).ljust(17), str(c.slack).ljust(10))"
   ]
  },
  {
   "cell_type": "code",
   "execution_count": null,
   "metadata": {},
   "outputs": [],
   "source": []
  }
 ],
 "metadata": {
  "kernelspec": {
   "display_name": "Python 3",
   "language": "python",
   "name": "python3"
  },
  "language_info": {
   "codemirror_mode": {
    "name": "ipython",
    "version": 2
   },
   "file_extension": ".py",
   "mimetype": "text/x-python",
   "name": "python",
   "nbconvert_exporter": "python",
   "pygments_lexer": "ipython2",
   "version": "2.7.12"
  }
 },
 "nbformat": 4,
 "nbformat_minor": 2
}
