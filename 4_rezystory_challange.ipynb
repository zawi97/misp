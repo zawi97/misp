{
 "cells": [
  {
   "cell_type": "markdown",
   "metadata": {},
   "source": [
    "# Maksymalny prąd"
   ]
  },
  {
   "cell_type": "code",
   "execution_count": 3,
   "metadata": {},
   "outputs": [
    {
     "name": "stdout",
     "output_type": "stream",
     "text": [
      "Status:  Optimal\n",
      "Prąd1  =  1.2857143\n",
      "Prąd2  =  1.7142857\n",
      "Prąd3  =  3.0\n",
      "Prąd4  =  1.0\n",
      "Prąd5  =  2.0\n",
      "Max prąd płynący przez układ wynosi:  3.0  A\n"
     ]
    }
   ],
   "source": [
    "from pulp import *\n",
    "\n",
    "prob = LpProblem(\"Rezystory1\", LpMaximize)\n",
    "\n",
    "#dictionary warrtości razystoprów\n",
    "Rx = {\n",
    "    'R1' : 8,\n",
    "    'R2' : 6,\n",
    "    'R3' : 4,\n",
    "    'R4' : 10,\n",
    "    'R5' : 5\n",
    "} \n",
    "\n",
    "#zmienne decyzyjne wartości rezystorów \n",
    "I1 = LpVariable(\"Prąd1\", 0, 2) \n",
    "I2 = LpVariable(\"Prąd2\", 0, 3)\n",
    "I3 = LpVariable(\"Prąd3\", 0, 4)\n",
    "I4 = LpVariable(\"Prąd4\", 0, 2)\n",
    "I5 = LpVariable(\"Prąd5\", 0, 2)\n",
    "\n",
    "#ograniczenia wynikające z praw Ohma Kirchoffa\n",
    "prob += I3, \"Max prąd\"\n",
    "prob += I1 + I2 == I3, \"Kirchoff_dla_1_węzła\"\n",
    "prob += I4 + I5 == I3, \"Kirchoff_dla_2_węzła\"\n",
    "\n",
    "prob += I1*Rx['R1'] == I2*Rx['R2'], \"Kirchoff_dla_1_oczka\"\n",
    "prob += I4*Rx['R4'] == I5*Rx['R5'], \"Kirchoff_dla_2_oczka\"\n",
    "\n",
    "#wynik\n",
    "prob.writeLP(\"Rezystory1Model.lp\")\n",
    "prob.solve()\n",
    "print (\"Status: \", LpStatus[prob.status])\n",
    "\n",
    "for v in prob.variables():\n",
    "    print (v.name, \" = \", v.varValue)\n",
    "\n",
    "print(\"Max prąd płynący przez układ wynosi: \",I3.varValue,\" A\")"
   ]
  },
  {
   "cell_type": "code",
   "execution_count": 4,
   "metadata": {},
   "outputs": [
    {
     "name": "stdout",
     "output_type": "stream",
     "text": [
      "\\* Rezystory1 *\\\n",
      "Maximize\n",
      "Max_prąd: Prąd3\n",
      "Subject To\n",
      "Kirchoff_dla_1_oczka: 8 Prąd1 - 6 Prąd2 = 0\n",
      "Kirchoff_dla_1_węzła: Prąd1 + Prąd2 - Prąd3 = 0\n",
      "Kirchoff_dla_2_oczka: 10 Prąd4 - 5 Prąd5 = 0\n",
      "Kirchoff_dla_2_węzła: - Prąd3 + Prąd4 + Prąd5 = 0\n",
      "Bounds\n",
      "Prąd1 <= 2\n",
      "Prąd2 <= 3\n",
      "Prąd3 <= 4\n",
      "Prąd4 <= 2\n",
      "Prąd5 <= 2\n",
      "End\n"
     ]
    }
   ],
   "source": [
    "!cat \"Rezystory1Model.lp\""
   ]
  },
  {
   "cell_type": "markdown",
   "metadata": {},
   "source": [
    "# Moc wydzielana na mostku"
   ]
  },
  {
   "cell_type": "code",
   "execution_count": 4,
   "metadata": {},
   "outputs": [
    {
     "name": "stdout",
     "output_type": "stream",
     "text": [
      "Status:  Optimal\n",
      "Prąd1  =  3.0  A\n",
      "Prąd2  =  1.0  A\n",
      "Prąd3  =  1.0  A\n",
      "Prąd4  =  1.0  A\n",
      "Prąd5  =  3.0  A\n",
      "R1 =  2000.0 Ohm\n",
      "R2 =  10000.0 Ohm\n",
      "R3 =  40000.0 Ohm\n",
      "R4 =  70000.0 Ohm\n",
      "R5 =  1000.0 Ohm\n"
     ]
    }
   ],
   "source": [
    "from pulp import *\n",
    "\n",
    "prob = LpProblem(\"Rezystory_mostek\", LpMinimize)\n",
    "\n",
    "#słownik wartości napięć\n",
    "Ui = {\n",
    "    'U1' : 6,\n",
    "    'U2' : 10,\n",
    "    'U3' : 4,\n",
    "    'U4' : 7,\n",
    "    'U5' : 3,\n",
    "}\n",
    "\n",
    "#zmienne decyzyjne wartości prądów\n",
    "i1 = LpVariable('Prąd1',3, 5)\n",
    "i2 = LpVariable('Prąd2',1, 3)\n",
    "i3 = LpVariable('Prąd3',1, 3)\n",
    "i4 = LpVariable('Prąd4',1, 3)\n",
    "i5 = LpVariable('Prąd5',3, 5)\n",
    "\n",
    "#moc w układzie\n",
    "prob += i1*Ui['U1'] + i2*Ui['U2'] + i3*Ui['U3'] + i4*Ui['U4'] + i5*Ui['U5'], \"moc\"\n",
    "\n",
    "#rozwiązanie i wyniki\n",
    "prob.writeLP(\"Rezystory_mostek.lp\")\n",
    "prob.solve()\n",
    "\n",
    "print (\"Status: \", LpStatus[prob.status])\n",
    "\n",
    "for v in prob.variables():\n",
    "    print (v.name, \" = \", v.varValue, \" A\")\n",
    "print(\"R1 = \", Ui[\"U1\"]/(i1.varValue/1000), \"Ohm\")\n",
    "print(\"R2 = \", Ui[\"U2\"]/(i2.varValue/1000), \"Ohm\")\n",
    "print(\"R3 = \", Ui[\"U3\"]/(i3.varValue/10000), \"Ohm\")\n",
    "print(\"R4 = \", Ui[\"U4\"]/(i4.varValue/10000), \"Ohm\")\n",
    "print(\"R5 = \", Ui[\"U5\"]/(i5.varValue/1000), \"Ohm\")\n",
    "\n"
   ]
  }
 ],
 "metadata": {
  "kernelspec": {
   "display_name": "Python 3",
   "language": "python",
   "name": "python3"
  },
  "language_info": {
   "codemirror_mode": {
    "name": "ipython",
    "version": 3
   },
   "file_extension": ".py",
   "mimetype": "text/x-python",
   "name": "python",
   "nbconvert_exporter": "python",
   "pygments_lexer": "ipython3",
   "version": "3.8.3"
  }
 },
 "nbformat": 4,
 "nbformat_minor": 4
}
