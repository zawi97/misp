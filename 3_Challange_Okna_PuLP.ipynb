{
 "cells": [
  {
   "cell_type": "code",
   "execution_count": 11,
   "metadata": {},
   "outputs": [
    {
     "name": "stdout",
     "output_type": "stream",
     "text": [
      "Status:  Optimal\n",
      "Partie_alu  =  2.0\n",
      "Partie_drew  =  6.0\n",
      "Maksymalny zysk =  36000.0\n"
     ]
    }
   ],
   "source": [
    "#ze stałymi założeniami\n",
    "from pulp import *\n",
    "\n",
    "prob = LpProblem(\"Okna_zyski\", LpMaximize)\n",
    "\n",
    "x1 = LpVariable(\"Partie_alu\", 0, None, LpInteger) #zmienne i warunek nieujemności\n",
    "x2 = LpVariable(\"Partie_drew\", 0, None, LpInteger)\n",
    "\n",
    "prob += 3000.0*x1 + 5000.0*x2, \"Funkcja_zysku\"\n",
    "prob += x1 <= 4.0, \"F1_alu_czasLimit\"\n",
    "prob += 2.0*x2 <= 12.0, \"F2_drew_czasLimit\"\n",
    "prob += 3.0*x1 + 2.0*x2 <= 18.0, \"F3_aluDrew_czasLimit\"\n",
    "\n",
    "prob.writeLP(\"Okna_zyski.lp\")\n",
    "\n",
    "prob.solve()\n",
    "\n",
    "print(\"Status: \", LpStatus[prob.status])\n",
    "for v in prob.variables():\n",
    "    print(v.name, \" = \", v.varValue)\n",
    "\n",
    "print(\"Maksymalny zysk = \", value(prob.objective))"
   ]
  },
  {
   "cell_type": "code",
   "execution_count": 30,
   "metadata": {},
   "outputs": [
    {
     "name": "stderr",
     "output_type": "stream",
     "text": [
      "cat: Okna_zyski2.lp: No such file or directory\n"
     ]
    }
   ],
   "source": [
    "!cat \"Okna_zyski2.lp\""
   ]
  },
  {
   "cell_type": "code",
   "execution_count": 31,
   "metadata": {},
   "outputs": [],
   "source": [
    "?? interact"
   ]
  },
  {
   "cell_type": "code",
   "execution_count": 34,
   "metadata": {},
   "outputs": [
    {
     "data": {
      "application/vnd.jupyter.widget-view+json": {
       "model_id": "2a15e346945f436d87e0df8f7e76de63",
       "version_major": 2,
       "version_minor": 0
      },
      "text/plain": [
       "interactive(children=(FloatSlider(value=3000.0, description='Cena_alu_slider', max=10000.0, style=SliderStyle(…"
      ]
     },
     "metadata": {},
     "output_type": "display_data"
    },
    {
     "data": {
      "text/plain": [
       "<function __main__.zmienneOkna(cena_alu=3000, cena_drew=5000, F1_alu_czasLimit=1, F1_drew_czasLimit=0, F1_tydzien=4, F2_alu_czasLimit=0, F2_drew_czasLimit=2, F2_tydzien=12, F3_alu_czasLimit=3, F3_drew_czasLimit=2, F3_tydzien=18)>"
      ]
     },
     "execution_count": 34,
     "metadata": {},
     "output_type": "execute_result"
    }
   ],
   "source": [
    "#Z suwakami\n",
    "from pulp import *\n",
    "import pandas as pd\n",
    "from __future__ import print_function\n",
    "from ipywidgets import interact, interactive, fixed, interact_manual, Layout, FloatSlider, IntSlider\n",
    "import ipywidgets as widgets\n",
    "style = {'description_width': 'initial'}\n",
    "\n",
    "cena_alu_slider = FloatSlider(min=0,max = 10000, value= 3000, description=\"Cena_alu_slider\", style = style )\n",
    "cena_drew_slider = FloatSlider(min=0,max = 10000, value= 5000, description=\"cena_drew_slider\", style  = style )\n",
    "F1_alu_czasLimit_slider = FloatSlider(min=0,max = 10, value= 1, description=\"F1_alu_czasLimit_slider\", style = style )\n",
    "F1_drew_czasLimit_slider = FloatSlider(min=0,max = 10, value= 0, description=\"F1_drew_czasLimit_slider\", style = style )\n",
    "F1_tydzien_slider = FloatSlider(min=0,max = 48, value= 4, description=\"F1_tydzien_slider\", style = style )\n",
    "F2_alu_czasLimit_slider = FloatSlider(min=0,max = 10, value= 0, description=\"F2_alu_czasLimit_slider\", style= style )\n",
    "F2_drew_czasLimit_slider = FloatSlider(min=0,max = 10, value= 1, description=\"F2_drew_czasLimit_slider\", style= style )\n",
    "F2_tydzien_slider = FloatSlider(min=0,max = 48, value= 12, description=\"F2_tydzien_slider\", style= style )\n",
    "F3_alu_czasLimit_slider = FloatSlider(min=0,max = 10, value= 3, description=\"F3_alu_czasLimit_slider\", style= style )\n",
    "F3_drew_czasLimit_slider = FloatSlider(min=0,max = 10, value= 2, description=\"F3_drew_czasLimit_slider\", style= style )\n",
    "F3_tydzien_slider = FloatSlider(min=0,max = 48, value= 18, description=\"F3_tydzien_slider\", style= style )\n",
    "\n",
    "def zmienneOkna (\n",
    "    cena_alu = 3000,\n",
    "    cena_drew = 5000,\n",
    "    F1_alu_czasLimit = 1,\n",
    "    F1_drew_czasLimit = 0,\n",
    "    F1_tydzien = 4,\n",
    "    F2_alu_czasLimit = 0,\n",
    "    F2_drew_czasLimit = 2,\n",
    "    F2_tydzien = 12,\n",
    "    F3_alu_czasLimit = 3,\n",
    "    F3_drew_czasLimit = 2,\n",
    "    F3_tydzien = 18):\n",
    "\n",
    "#już jak normalnie\n",
    "\n",
    "    prob = LpProblem(\"Okna_zyski\", LpMaximize)\n",
    "    x1 = LpVariable(\"Partie_alu\", 0, None, LpInteger) #zmienne i warunek nieujemności\n",
    "    x2 = LpVariable(\"Partie_drew\", 0, None, LpInteger)\n",
    "\n",
    "    prob += cena_alu*x1 + cena_drew*x2, \"funkcja_zysku\"\n",
    "    prob += F1_alu_czasLimit*x1 + F1_drew_czasLimit <= F1_tydzien, \"Fabryka_1_ograniczenia\"\n",
    "    prob += F2_alu_czasLimit*x1 + F2_drew_czasLimit <= F2_tydzien, \"Fabryka_2_ograniczenia\"\n",
    "    prob += F3_alu_czasLimit*x1 + F3_drew_czasLimit <= F3_tydzien, \"Fabryka_3_ograniczenia\"\n",
    "\n",
    "    prob.writeLP(\"Okna_zyski2.lp\")\n",
    "\n",
    "    prob.solve()\n",
    "\n",
    "    print(\"Status: \", LpStatus[prob.status])\n",
    "    for v in prob.variables():\n",
    "        print(v.name, \" = \", v.varValue)\n",
    "\n",
    "    print(\"Maksymalny zysk = \", value(prob.objective))\n",
    "\n",
    "    shadows = [{'name':name, 'shadow price': c.pi, \"slack\": c.slack} for name, c in prob.constraints.items()]\n",
    "    print(\"*\"*10+\"Shadow Prices\"+\"*\"*10)\n",
    "    print(pd.DataFrame(shadows))\n",
    "\n",
    "interact(zmienneOkna,\n",
    "    cena_alu = cena_alu_slider,\n",
    "    cena_drew = cena_drew_slider,\n",
    "    F1_alu_czasLimit = F1_alu_czasLimit_slider,\n",
    "    F1_drew_czasLimit = F1_drew_czasLimit_slider,\n",
    "    F1_tydzien = F1_tydzien_slider,\n",
    "    F2_alu_czasLimit = F2_alu_czasLimit_slider,\n",
    "    F2_drew_czasLimit = F2_drew_czasLimit_slider,\n",
    "    F2_tydzien = F2_tydzien_slider,\n",
    "    F3_alu_czasLimit =  F3_alu_czasLimit_slider,\n",
    "    F3_drew_czasLimit = F3_drew_czasLimit_slider,\n",
    "    F3_tydzien = F3_tydzien_slider)\n"
   ]
  }
 ],
 "metadata": {
  "kernelspec": {
   "display_name": "Python 3",
   "language": "python",
   "name": "python3"
  },
  "language_info": {
   "codemirror_mode": {
    "name": "ipython",
    "version": 3
   },
   "file_extension": ".py",
   "mimetype": "text/x-python",
   "name": "python",
   "nbconvert_exporter": "python",
   "pygments_lexer": "ipython3",
   "version": "3.8.3"
  }
 },
 "nbformat": 4,
 "nbformat_minor": 4
}
