{
 "cells": [
  {
   "cell_type": "markdown",
   "metadata": {},
   "source": [
    "# Podstawowe zasady jupyter"
   ]
  },
  {
   "cell_type": "code",
   "execution_count": 2,
   "metadata": {},
   "outputs": [],
   "source": [
    "! ls"
   ]
  },
  {
   "cell_type": "code",
   "execution_count": 5,
   "metadata": {},
   "outputs": [
    {
     "name": "stdout",
     "output_type": "stream",
     "text": [
      "WARNING: The conda.compat module is deprecated and will be removed in a future release.\n",
      "Collecting package metadata: done\n",
      "Solving environment: / \n",
      "The environment is inconsistent, please check the package plan carefully\n",
      "The following packages are causing the inconsistency:\n",
      "\n",
      "  - defaults/linux-64::gmpy2==2.0.8=py37h10f8cd9_2\n",
      "  - defaults/linux-64::numba==0.43.1=py37h962f231_0\n",
      "  - defaults/linux-64::flask==1.0.2=py37_1\n",
      "  - defaults/linux-64::et_xmlfile==1.0.1=py37_0\n",
      "  - defaults/linux-64::pandocfilters==1.4.2=py37_1\n",
      "  - defaults/linux-64::singledispatch==3.4.0.3=py37_0\n",
      "  - defaults/linux-64::nbconvert==5.4.1=py37_3\n",
      "  - defaults/linux-64::blosc==1.15.0=hd408876_0\n",
      "  - defaults/linux-64::beautifulsoup4==4.7.1=py37_1\n",
      "  - defaults/linux-64::pysocks==1.6.8=py37_0\n",
      "  - defaults/linux-64::zict==0.1.4=py37_0\n",
      "  - defaults/linux-64::defusedxml==0.5.0=py37_1\n",
      "  - defaults/linux-64::prompt_toolkit==2.0.9=py37_0\n",
      "  - defaults/linux-64::pkginfo==1.5.0.1=py37_0\n",
      "  - defaults/linux-64::harfbuzz==1.8.8=hffaf4a1_0\n",
      "  - defaults/linux-64::numpydoc==0.8.0=py37_0\n",
      "  - defaults/linux-64::unicodecsv==0.14.1=py37_0\n",
      "  - defaults/linux-64::tornado==6.0.2=py37h7b6447c_0\n",
      "  - defaults/linux-64::sphinxcontrib==1.0=py37_1\n",
      "  - defaults/linux-64::jupyter_console==6.0.0=py37_0\n",
      "  - defaults/linux-64::scipy==1.2.1=py37h7c811a0_0\n",
      "  - defaults/linux-64::idna==2.8=py37_0\n",
      "  - defaults/linux-64::pandas==0.24.2=py37he6710b0_0\n",
      "  - defaults/linux-64::anaconda-navigator==1.9.7=py37_0\n",
      "  - defaults/linux-64::gstreamer==1.14.0=hb453b48_1\n",
      "  - defaults/linux-64::bkcharts==0.2=py37_0\n",
      "  - defaults/linux-64::astropy==3.1.2=py37h7b6447c_0\n",
      "  - defaults/linux-64::werkzeug==0.14.1=py37_0\n",
      "  - defaults/linux-64::mccabe==0.6.1=py37_1\n",
      "  - defaults/linux-64::snowballstemmer==1.2.1=py37_0\n",
      "  - defaults/linux-64::terminado==0.8.1=py37_1\n",
      "  - defaults/linux-64::sip==4.19.8=py37hf484d3e_0\n",
      "  - defaults/linux-64::sphinxcontrib-websupport==1.1.0=py37_1\n",
      "  - defaults/linux-64::python-libarchive-c==2.8=py37_6\n",
      "  - defaults/linux-64::jupyterlab_server==0.2.0=py37_0\n",
      "  - defaults/linux-64::lazy-object-proxy==1.3.1=py37h14c3975_2\n",
      "  - defaults/linux-64::alabaster==0.7.12=py37_0\n",
      "  - defaults/linux-64::zipp==0.3.3=py37_1\n",
      "  - defaults/linux-64::get_terminal_size==1.0.0=haa9412d_0\n",
      "  - defaults/linux-64::pycodestyle==2.5.0=py37_0\n",
      "  - defaults/linux-64::backports.os==0.1.1=py37_0\n",
      "  - defaults/linux-64::jupyter_core==4.4.0=py37_0\n",
      "  - defaults/linux-64::imageio==2.5.0=py37_0\n",
      "  - defaults/linux-64::pytables==3.5.1=py37h71ec239_0\n",
      "  - defaults/linux-64::typing==3.6.2=py36h7da032a_0\n",
      "  - defaults/linux-64::certifi==2019.3.9=py37_0\n",
      "  - defaults/linux-64::pycrypto==2.6.1=py37h14c3975_9\n",
      "  - defaults/linux-64::libffi==3.2.1=hd88cf55_4\n",
      "  - defaults/linux-64::fribidi==1.0.5=h7b6447c_0\n",
      "  - defaults/linux-64::spyder-kernels==0.4.2=py37_0\n",
      "  - defaults/linux-64::pygments==2.3.1=py37_0\n",
      "  - defaults/linux-64::ruamel_yaml==0.15.46=py37h14c3975_0\n",
      "  - defaults/linux-64::pluggy==0.9.0=py37_0\n",
      "  - defaults/linux-64::pycparser==2.19=py37_0\n",
      "  - defaults/linux-64::qtpy==1.7.0=py37_1\n",
      "  - defaults/linux-64::xlwt==1.3.0=py37_0\n",
      "  - defaults/linux-64::gevent==1.4.0=py37h7b6447c_0\n",
      "  - defaults/linux-64::pyflakes==2.1.1=py37_0\n",
      "  - defaults/linux-64::jsonschema==3.0.1=py37_0\n",
      "  - defaults/linux-64::pytest-doctestplus==0.3.0=py37_0\n",
      "  - defaults/linux-64::jinja2==2.10=py37_0\n",
      "  - defaults/linux-64::isort==4.3.16=py37_0\n",
      "  - defaults/linux-64::qt==5.9.7=h5867ecd_1\n",
      "  - defaults/linux-64::pillow==5.4.1=py37h34e0f95_0\n",
      "  - defaults/linux-64::anaconda==2019.03=py37_0\n",
      "  - defaults/linux-64::pywavelets==1.0.2=py37hdd07704_0\n",
      "  - defaults/linux-64::dbus==1.13.6=h746ee38_0\n",
      "  - defaults/linux-64::itsdangerous==1.1.0=py37_0\n",
      "  - defaults/linux-64::packaging==19.0=py37_0\n",
      "  - defaults/linux-64::conda-build==3.17.8=py37_0\n",
      "  - defaults/linux-64::py-lief==0.9.0=py37h7725739_2\n",
      "  - defaults/linux-64::krb5==1.16.1=h173b8e3_7\n",
      "  - defaults/linux-64::libssh2==1.8.0=h1ba5d50_4\n",
      "  - defaults/linux-64::conda-verify==3.1.1=py37_0\n",
      "  - defaults/linux-64::lz4-c==1.8.1.2=h14c3975_0\n",
      "  - defaults/linux-64::pytest-astropy==0.5.0=py37_0\n",
      "  - defaults/linux-64::secretstorage==3.1.1=py37_0\n",
      "  - defaults/linux-64::webencodings==0.5.1=py37_1\n",
      "  - defaults/linux-64::decorator==4.4.0=py37_1\n",
      "  - defaults/linux-64::pylint==2.3.1=py37_0\n",
      "  - defaults/linux-64::cycler==0.10.0=py37_0\n",
      "  - defaults/linux-64::libxslt==1.1.33=h7d1a2b0_0\n",
      "  - defaults/linux-64::libcurl==7.64.0=h20c2e04_2\n",
      "  - defaults/linux-64::ipython==7.4.0=py37h39e3cac_0\n",
      "  - defaults/linux-64::pytest-remotedata==0.3.1=py37_0\n",
      "  - defaults/linux-64::sympy==1.3=py37_0\n",
      "  - defaults/linux-64::anaconda-client==1.7.2=py37_0\n",
      "  - defaults/linux-64::jbig==2.1=hdba287a_0\n",
      "  - defaults/linux-64::nbformat==4.4.0=py37_0\n",
      "  - defaults/linux-64::lzo==2.10=h49e0be7_2\n",
      "  - defaults/linux-64::navigator-updater==0.2.1=py37_0\n",
      "  - defaults/linux-64::nose==1.3.7=py37_2\n",
      "  - defaults/linux-64::zlib==1.2.11=h7b6447c_3\n",
      "  - defaults/linux-64::_ipyw_jlab_nb_ext_conf==0.1.0=py37_0\n",
      "  - defaults/linux-64::html5lib==1.0.1=py37_0\n",
      "  - defaults/linux-64::patsy==0.5.1=py37_0\n",
      "  - defaults/linux-64::jpeg==9b=h024ee3a_2\n",
      "  - defaults/linux-64::pexpect==4.6.0=py37_0\n",
      "  - defaults/linux-64::libuuid==1.0.3=h1bed415_2\n",
      "  - defaults/linux-64::python-dateutil==2.8.0=py37_0\n",
      "  - defaults/linux-64::jdcal==1.4=py37_0\n",
      "  - defaults/linux-64::wcwidth==0.1.7=py37_0\n",
      "  - defaults/linux-64::cytoolz==0.9.0.1=py37h14c3975_1\n",
      "  - defaults/linux-64::mistune==0.8.4=py37h7b6447c_0\n",
      "  - defaults/linux-64::conda==4.6.11=py37_0\n",
      "  - defaults/linux-64::yaml==0.1.7=had09818_2\n",
      "  - defaults/linux-64::ipython_genutils==0.2.0=py37_0\n",
      "  - defaults/linux-64::fontconfig==2.13.0=h9420a91_0\n",
      "  - defaults/linux-64::imagesize==1.1.0=py37_0\n",
      "  - defaults/linux-64::distributed==1.26.0=py37_1\n",
      "  - defaults/linux-64::icu==58.2=h9c2bf20_1\n",
      "  - defaults/linux-64::anaconda-project==0.8.2=py37_0\n",
      "  - defaults/linux-64::backcall==0.1.0=py37_0\n",
      "  - defaults/linux-64::ncurses==6.1=he6710b0_1\n",
      "  - defaults/linux-64::pickleshare==0.7.5=py37_0\n",
      "  - defaults/linux-64::wheel==0.33.1=py37_0\n",
      "  - defaults/linux-64::prometheus_client==0.6.0=py37_0\n",
      "  - defaults/linux-64::pep8==1.7.1=py37_0\n",
      "  - defaults/linux-64::chardet==3.0.4=py37_1\n",
      "  - defaults/linux-64::jedi==0.13.3=py37_0\n",
      "  - defaults/linux-64::h5py==2.9.0=py37h7918eee_0\n",
      "  - defaults/linux-64::numpy==1.16.2=py37h7e9f1db_0\n",
      "  - defaults/linux-64::python==3.7.3=h0371630_0\n",
      "  - defaults/linux-64::networkx==2.2=py37_1\n",
      "  - defaults/linux-64::tqdm==4.31.1=py37_1\n",
      "  - defaults/linux-64::mkl-service==1.1.2=py37he904b0f_5\n",
      "  - defaults/linux-64::matplotlib==3.0.3=py37h5429711_0\n",
      "  - defaults/linux-64::keyring==18.0.0=py37_0\n",
      "  - defaults/linux-64::bzip2==1.0.6=h14c3975_5\n",
      "  - defaults/linux-64::mpmath==1.1.0=py37_0\n",
      "  - defaults/linux-64::contextlib2==0.5.5=py37_0\n",
      "  - defaults/linux-64::zeromq==4.3.1=he6710b0_3\n",
      "  - defaults/linux-64::liblief==0.9.0=h7725739_2\n",
      "  - defaults/linux-64::blaze==0.11.3=py36h4e06776_0\n",
      "  - defaults/linux-64::llvmlite==0.28.0=py37hd408876_0\n",
      "  - defaults/linux-64::attrs==19.1.0=py37_1\n",
      "  - defaults/linux-64::wurlitzer==1.0.2=py37_0\n",
      "  - defaults/linux-64::widgetsnbextension==3.4.2=py37_0\n",
      "  - defaults/linux-64::olefile==0.46=py37_0\n",
      "  - defaults/linux-64::wrapt==1.11.1=py37h7b6447c_0\n",
      "  - defaults/linux-64::pcre==8.43=he6710b0_0\n",
      "  - defaults/linux-64::statsmodels==0.9.0=py37h035aef0_0\n",
      "  - defaults/linux-64::curl==7.64.0=hbc83047_2\n",
      "  - defaults/linux-64::cloudpickle==0.8.0=py37_0\n",
      "  - defaults/linux-64::ptyprocess==0.6.0=py37_0\n",
      "  - defaults/linux-64::toolz==0.9.0=py37_0\n",
      "  - defaults/linux-64::pytest==4.3.1=py37_0\n",
      "  - defaults/linux-64::libpng==1.6.36=hbc83047_0\n",
      "  - defaults/linux-64::babel==2.6.0=py37_0\n",
      "  - defaults/linux-64::openssl==1.1.1b=h7b6447c_1\n",
      "  - defaults/linux-64::nltk==3.4=py37_1\n",
      "  - defaults/linux-64::pycurl==7.43.0.2=py37h1ba5d50_0\n",
      "  - defaults/linux-64::pyqt==5.9.2=py37h05f1152_2\n",
      "  - defaults/linux-64::libedit==3.1.20181209=hc058e9b_0\n",
      "  - defaults/linux-64::more-itertools==6.0.0=py37_0\n",
      "  - defaults/linux-64::xlsxwriter==1.1.5=py37_0\n",
      "  - defaults/linux-64::fastcache==1.0.2=py37h14c3975_2\n",
      "  - defaults/linux-64::astroid==2.2.5=py37_0\n",
      "  - defaults/linux-64::libxml2==2.9.9=he19cac6_0\n",
      "  - defaults/linux-64::colorama==0.4.1=py37_0\n",
      "  - defaults/linux-64::pyrsistent==0.14.11=py37h7b6447c_0\n",
      "  - defaults/linux-64::clyent==1.2.2=py37_1\n",
      "  - defaults/linux-64::pytz==2018.9=py37_0\n",
      "  - defaults/linux-64::readline==7.0=h7b6447c_5\n",
      "  - defaults/linux-64::bottleneck==1.2.1=py37h035aef0_1\n",
      "  - defaults/linux-64::odo==0.5.1=py36h90ed295_0\n",
      "  - defaults/linux-64::cairo==1.14.12=h8948797_3\n",
      "  - defaults/linux-64::pytest-openfiles==0.3.2=py37_0\n",
      "  - defaults/linux-64::pyodbc==4.0.26=py37he6710b0_0\n",
      "  - defaults/linux-64::xlrd==1.2.0=py37_0\n",
      "  - defaults/linux-64::pyyaml==5.1=py37h7b6447c_0\n",
      "  - defaults/linux-64::unixodbc==2.3.7=h14c3975_0\n",
      "  - defaults/linux-64::mkl_random==1.0.2=py37hd81dba3_0\n",
      "  - defaults/linux-64::traitlets==4.3.2=py37_0\n",
      "  - defaults/linux-64::simplegeneric==0.8.1=py37_2\n",
      "  - defaults/linux-64::sortedcollections==1.1.2=py37_0\n",
      "  - defaults/linux-64::pytest-arraydiff==0.3=py37h39e3cac_0\n",
      "  - defaults/linux-64::pango==1.42.4=h049681c_0\n",
      "  - defaults/linux-64::bleach==3.1.0=py37_0\n",
      "  - defaults/linux-64::pathlib2==2.3.3=py37_0\n",
      "  - defaults/linux-64::pyzmq==18.0.0=py37he6710b0_0\n",
      "  - defaults/linux-64::multipledispatch==0.6.0=py37_0\n",
      "  - defaults/linux-64::msgpack-python==0.6.1=py37hfd86e86_1\n",
      "  - defaults/linux-64::click==7.0=py37_0\n",
      "  - defaults/linux-64::pip==19.0.3=py37_0\n",
      "  - defaults/linux-64::glib==2.56.2=hd408876_0\n",
      "  - defaults/linux-64::bokeh==1.0.4=py37_0\n",
      "  - defaults/linux-64::soupsieve==1.8=py37_0\n",
      "  - defaults/linux-64::libgcc-ng==8.2.0=hdf63c60_1\n",
      "  - defaults/linux-64::qtconsole==4.4.3=py37_0\n",
      "  - defaults/linux-64::seaborn==0.9.0=py37_0\n",
      "  - defaults/linux-64::send2trash==1.5.0=py37_0\n",
      "  - defaults/linux-64::cryptography==2.6.1=py37h1ba5d50_0\n",
      "  - defaults/linux-64::libxcb==1.13=h1bed415_1\n",
      "  - defaults/linux-64::cffi==1.12.2=py37h2e261b9_1\n",
      "  - defaults/linux-64::atomicwrites==1.3.0=py37_1\n",
      "  - defaults/linux-64::libarchive==3.3.3=h5d8350f_5\n",
      "  - defaults/linux-64::tk==8.6.8=hbc83047_0\n",
      "  - defaults/linux-64::jupyter==1.0.0=py37_7\n",
      "  - defaults/linux-64::qtawesome==0.5.7=py37_1\n",
      "  - defaults/linux-64::tblib==1.3.2=py37_0\n",
      "  - defaults/linux-64::dask-core==1.1.4=py37_1\n",
      "  - defaults/linux-64::jupyterlab==0.35.4=py37hf63ae98_0\n",
      "  - defaults/linux-64::numpy-base==1.16.2=py37hde5b4d6_0\n",
      "  - defaults/linux-64::glob2==0.6=py37_1\n",
      "  - defaults/linux-64::pyopenssl==19.0.0=py37_0\n",
      "  - defaults/linux-64::pixman==0.38.0=h7b6447c_0\n",
      "  - defaults/linux-64::sqlite==3.27.2=h7b6447c_0\n",
      "  - defaults/linux-64::asn1crypto==0.24.0=py37_0\n",
      "  - defaults/linux-64::graphite2==1.3.13=h23475e2_0\n",
      "  - defaults/linux-64::scikit-image==0.14.2=py37he6710b0_0\n",
      "  - defaults/linux-64::path.py==11.5.0=py37_0\n",
      "  - defaults/linux-64::docutils==0.14=py37_0\n",
      "  - defaults/linux-64::mkl_fft==1.0.10=py37ha843d7b_0\n",
      "  - defaults/linux-64::ipykernel==5.1.0=py37h39e3cac_0\n",
      "  - defaults/linux-64::scikit-learn==0.20.3=py37hd81dba3_0\n",
      "  - defaults/linux-64::libtool==2.4.6=h7b6447c_5\n",
      "  - defaults/linux-64::libsodium==1.0.16=h1bed415_0\n",
      "  - defaults/linux-64::six==1.12.0=py37_0\n",
      "  - defaults/linux-64::jeepney==0.4=py37_0\n",
      "  - defaults/linux-64::dask==1.1.4=py37_1\n",
      "  - defaults/linux-64::locket==0.2.0=py37_1\n",
      "  - defaults/linux-64::notebook==5.7.8=py37_0\n",
      "  - defaults/linux-64::partd==0.3.10=py37_1\n",
      "  - defaults/linux-64::greenlet==0.4.15=py37h7b6447c_0\n",
      "  - defaults/linux-64::psutil==5.6.1=py37h7b6447c_0\n",
      "  - defaults/linux-64::py==1.8.0=py37_0\n",
      "  - defaults/linux-64::boto==2.49.0=py37_0\n",
      "  - defaults/linux-64::libtiff==4.0.10=h2733197_2\n",
      "  - defaults/linux-64::backports.shutil_get_terminal_size==1.0.0=py37_2\n",
      "  - defaults/linux-64::zstd==1.3.7=h0b5b093_0\n",
      "  - defaults/linux-64::xz==5.2.4=h14c3975_4\n",
      "  - defaults/linux-64::pycosat==0.6.3=py37h14c3975_0\n",
      "  - defaults/linux-64::gmp==6.1.2=h6c8ec71_1\n",
      "  - defaults/linux-64::backports==1.0=py37_1\n",
      "  - defaults/linux-64::expat==2.2.6=he6710b0_0\n",
      "  - defaults/linux-64::ply==3.11=py37_0\n",
      "  - defaults/linux-64::heapdict==1.0.0=py37_2\n",
      "  - defaults/linux-64::pandoc==2.2.3.2=0\n",
      "  - defaults/linux-64::jupyterlab_launcher==0.10.2=py36_0\n",
      "  - defaults/linux-64::snappy==1.1.7=hbae5bb6_3\n",
      "  - defaults/linux-64::future==0.17.1=py37_0\n",
      "  - defaults/linux-64::datashape==0.5.4=py36h3ad6b5c_0\n",
      "  - defaults/linux-64::parso==0.3.4=py37_0\n",
      "  - defaults/linux-64::mpc==1.1.0=h10f8cd9_1\n",
      "  - defaults/linux-64::numexpr==2.6.9=py37h9e4a6bb_0\n",
      "  - defaults/linux-64::openpyxl==2.6.1=py37_1\n",
      "  - defaults/linux-64::urllib3==1.24.1=py37_0\n",
      "  - defaults/linux-64::importlib_metadata==0.8=py37_0\n",
      "  - defaults/linux-64::freetype==2.9.1=h8a8886c_1\n",
      "  - defaults/linux-64::patchelf==0.9=he6710b0_3\n",
      "  - defaults/linux-64::bitarray==0.8.3=py37h14c3975_0\n",
      "  - defaults/linux-64::setuptools==40.8.0=py37_0\n",
      "  - defaults/linux-64::ipywidgets==7.4.2=py37_0\n",
      "  - defaults/linux-64::gst-plugins-base==1.14.0=hbbd80ab_1\n",
      "  - defaults/linux-64::kiwisolver==1.0.1=py37hf484d3e_0\n",
      "  - defaults/linux-64::jupyter_client==5.2.4=py37_0\n",
      "  - defaults/linux-64::sphinx==1.8.5=py37_0\n",
      "  - defaults/linux-64::cython==0.29.6=py37he6710b0_0\n",
      "  - defaults/linux-64::flask-cors==3.0.3=py36h2d857d3_0\n",
      "  - defaults/linux-64::entrypoints==0.3=py37_0\n",
      "  - defaults/linux-64::sqlalchemy==1.3.1=py37h7b6447c_0\n",
      "  - defaults/linux-64::filelock==3.0.10=py37_0\n",
      "  - defaults/linux-64::spyder==3.3.3=py37_0\n",
      "  - defaults/linux-64::lxml==4.3.2=py37hefd8a0e_0\n",
      "  - defaults/linux-64::pyparsing==2.3.1=py37_0\n",
      "  - defaults/linux-64::hdf5==1.10.4=hb1b8bf9_0\n",
      "  - defaults/linux-64::mpfr==4.0.1=hdf1c602_3\n",
      "  - defaults/linux-64::testpath==0.4.2=py37_0\n",
      "  - defaults/linux-64::sortedcontainers==2.1.0=py37_0\n",
      "  - defaults/linux-64::rope==0.12.0=py37_0\n",
      "  - defaults/linux-64::requests==2.21.0=py37_0\n",
      "  - defaults/linux-64::markupsafe==1.1.1=py37h7b6447c_0\n"
     ]
    },
    {
     "name": "stdout",
     "output_type": "stream",
     "text": [
      "done\n",
      "\n",
      "\n",
      "==> WARNING: A newer version of conda exists. <==\n",
      "  current version: 4.6.11\n",
      "  latest version: 4.7.12\n",
      "\n",
      "Please update conda by running\n",
      "\n",
      "    $ conda update -n base -c defaults conda\n",
      "\n",
      "\n",
      "\n",
      "## Package Plan ##\n",
      "\n",
      "  environment location: /home/igor/anaconda3\n",
      "\n",
      "  added / updated specs:\n",
      "    - pulp\n",
      "\n",
      "\n",
      "The following packages will be downloaded:\n",
      "\n",
      "    package                    |            build\n",
      "    ---------------------------|-----------------\n",
      "    bzip2-1.0.8                |       h516909a_1         397 KB  conda-forge\n",
      "    certifi-2019.9.11          |           py37_0         147 KB  conda-forge\n",
      "    libffi-3.2.1               |    he1b5a44_1006          46 KB  conda-forge\n",
      "    ncurses-6.1                |    hf484d3e_1002         1.3 MB  conda-forge\n",
      "    pip-19.2.3                 |           py37_0         1.9 MB  conda-forge\n",
      "    pulp-1.6.8                 |        py37_1000        10.9 MB  conda-forge\n",
      "    python-3.7.3               |       h33d41f4_1        36.0 MB  conda-forge\n",
      "    readline-8.0               |       hf8c457e_0         441 KB  conda-forge\n",
      "    setuptools-41.2.0          |           py37_0         635 KB  conda-forge\n",
      "    sqlite-3.29.0              |       hcee41ef_1         1.9 MB  conda-forge\n",
      "    tk-8.6.9                   |    hed695b0_1003         3.2 MB  conda-forge\n",
      "    wheel-0.33.6               |           py37_0          35 KB  conda-forge\n",
      "    xz-5.2.4                   |    h14c3975_1001         366 KB  conda-forge\n",
      "    zlib-1.2.11                |    h516909a_1006         105 KB  conda-forge\n",
      "    ------------------------------------------------------------\n",
      "                                           Total:        57.3 MB\n",
      "\n",
      "The following NEW packages will be INSTALLED:\n",
      "\n",
      "  _libgcc_mutex      pkgs/main/linux-64::_libgcc_mutex-0.1-main\n",
      "  pulp               conda-forge/linux-64::pulp-1.6.8-py37_1000\n",
      "\n",
      "The following packages will be UPDATED:\n",
      "\n",
      "  bzip2                   pkgs/main::bzip2-1.0.6-h14c3975_5 --> conda-forge::bzip2-1.0.8-h516909a_1\n",
      "  ca-certificates    pkgs/main::ca-certificates-2019.1.23-0 --> conda-forge::ca-certificates-2019.9.11-hecc5488_0\n",
      "  certifi                pkgs/main::certifi-2019.3.9-py37_0 --> conda-forge::certifi-2019.9.11-py37_0\n",
      "  libffi                 pkgs/main::libffi-3.2.1-hd88cf55_4 --> conda-forge::libffi-3.2.1-he1b5a44_1006\n",
      "  libgcc-ng                                8.2.0-hdf63c60_1 --> 9.1.0-hdf63c60_0\n",
      "  ncurses                 pkgs/main::ncurses-6.1-he6710b0_1 --> conda-forge::ncurses-6.1-hf484d3e_1002\n",
      "  openssl              pkgs/main::openssl-1.1.1b-h7b6447c_1 --> conda-forge::openssl-1.1.1c-h516909a_0\n",
      "  pip                          pkgs/main::pip-19.0.3-py37_0 --> conda-forge::pip-19.2.3-py37_0\n",
      "  pyparsing          pkgs/main/linux-64::pyparsing-2.3.1-p~ --> conda-forge/noarch::pyparsing-2.4.2-py_0\n",
      "  python                 pkgs/main::python-3.7.3-h0371630_0 --> conda-forge::python-3.7.3-h33d41f4_1\n",
      "  readline               pkgs/main::readline-7.0-h7b6447c_5 --> conda-forge::readline-8.0-hf8c457e_0\n",
      "  setuptools            pkgs/main::setuptools-40.8.0-py37_0 --> conda-forge::setuptools-41.2.0-py37_0\n",
      "  sqlite                pkgs/main::sqlite-3.27.2-h7b6447c_0 --> conda-forge::sqlite-3.29.0-hcee41ef_1\n",
      "  tk                         pkgs/main::tk-8.6.8-hbc83047_0 --> conda-forge::tk-8.6.9-hed695b0_1003\n",
      "  wheel                      pkgs/main::wheel-0.33.1-py37_0 --> conda-forge::wheel-0.33.6-py37_0\n",
      "  xz                         pkgs/main::xz-5.2.4-h14c3975_4 --> conda-forge::xz-5.2.4-h14c3975_1001\n",
      "  zlib                    pkgs/main::zlib-1.2.11-h7b6447c_3 --> conda-forge::zlib-1.2.11-h516909a_1006\n",
      "\n",
      "\n",
      "\n",
      "Downloading and Extracting Packages\n",
      "ncurses-6.1          | 1.3 MB    | ##################################### | 100% \n",
      "certifi-2019.9.11    | 147 KB    | ##################################### | 100% \n",
      "xz-5.2.4             | 366 KB    | ##################################### | 100% \n",
      "sqlite-3.29.0        | 1.9 MB    | ##################################### | 100% \n",
      "python-3.7.3         | 36.0 MB   | ##################################### | 100% \n",
      "libffi-3.2.1         | 46 KB     | ##################################### | 100% \n",
      "pip-19.2.3           | 1.9 MB    | ##################################### | 100% \n",
      "bzip2-1.0.8          | 397 KB    | ##################################### | 100% \n",
      "zlib-1.2.11          | 105 KB    | ##################################### | 100% \n",
      "wheel-0.33.6         | 35 KB     | ##################################### | 100% \n",
      "tk-8.6.9             | 3.2 MB    | ##################################### | 100% \n",
      "pulp-1.6.8           | 10.9 MB   | ##################################### | 100% \n",
      "readline-8.0         | 441 KB    | ##################################### | 100% \n",
      "setuptools-41.2.0    | 635 KB    | ##################################### | 100% \n",
      "Preparing transaction: done\n",
      "Verifying transaction: done\n",
      "Executing transaction: done\n"
     ]
    }
   ],
   "source": [
    "! conda install -c conda-forge pulp -y"
   ]
  },
  {
   "cell_type": "markdown",
   "metadata": {},
   "source": [
    "# Podstawy pracy z Python"
   ]
  },
  {
   "cell_type": "code",
   "execution_count": 7,
   "metadata": {},
   "outputs": [
    {
     "name": "stdout",
     "output_type": "stream",
     "text": [
      "5\n"
     ]
    }
   ],
   "source": [
    "# komentarz\n",
    "\n",
    "# if\n",
    "\n",
    "wielkosc = 5\n",
    "\n",
    "print(wielkosc)"
   ]
  },
  {
   "cell_type": "code",
   "execution_count": 13,
   "metadata": {},
   "outputs": [
    {
     "name": "stdout",
     "output_type": "stream",
     "text": [
      "w sam raz\n"
     ]
    }
   ],
   "source": [
    "if wielkosc >6:\n",
    "    print(\"ale duze\")\n",
    "elif wielkosc < 3:\n",
    "    print(\"malutkie\")\n",
    "    print('franek')\n",
    "else:\n",
    "    print(\"w sam raz\")"
   ]
  },
  {
   "cell_type": "code",
   "execution_count": 14,
   "metadata": {},
   "outputs": [
    {
     "name": "stdout",
     "output_type": "stream",
     "text": [
      "['Ania', 'Zosia', 'Kasia', 'Franek']\n"
     ]
    }
   ],
   "source": [
    "studenci = [\"Ania\", \"Zosia\", \"Kasia\", \"Franek\"]\n",
    "\n",
    "print(studenci)"
   ]
  },
  {
   "cell_type": "code",
   "execution_count": 16,
   "metadata": {},
   "outputs": [
    {
     "data": {
      "text/plain": [
       "'Ania'"
      ]
     },
     "execution_count": 16,
     "metadata": {},
     "output_type": "execute_result"
    }
   ],
   "source": [
    "studenci[0][1]"
   ]
  },
  {
   "cell_type": "code",
   "execution_count": 18,
   "metadata": {
    "scrolled": true
   },
   "outputs": [
    {
     "name": "stdout",
     "output_type": "stream",
     "text": [
      "student ma na imie: Ania\n",
      "student ma na imie: Zosia\n",
      "student ma na imie: Kasia\n",
      "student ma na imie: Franek\n",
      "Ania\n",
      "student na poczatku alfabetu\n",
      "Zosia\n",
      "Kasia\n",
      "Franek\n"
     ]
    }
   ],
   "source": [
    "for student in studenci:\n",
    "    print(\"student ma na imie:\", student)\n",
    "    \n",
    "for student in studenci:\n",
    "    print(student)\n",
    "    if student[0]==\"A\":\n",
    "        print(\"student na poczatku alfabetu\")"
   ]
  },
  {
   "cell_type": "code",
   "execution_count": 19,
   "metadata": {},
   "outputs": [
    {
     "name": "stdout",
     "output_type": "stream",
     "text": [
      "student Ania ma numer 0\n",
      "student Zosia ma numer 1\n",
      "student Kasia ma numer 2\n",
      "student Franek ma numer 3\n"
     ]
    }
   ],
   "source": [
    "for numer, student in enumerate(studenci):\n",
    "    print(\"student {} ma numer {}\".format(student,numer))"
   ]
  },
  {
   "cell_type": "code",
   "execution_count": 53,
   "metadata": {},
   "outputs": [
    {
     "name": "stdout",
     "output_type": "stream",
     "text": [
      "student Ania ma numer 0 i ocenę 2\n",
      "student Zosia ma numer 1 i ocenę 2\n",
      "student Kasia ma numer 2 i ocenę 5\n",
      "student Franek ma numer 3 i ocenę 3\n",
      "----------------------------------------\n",
      "student Ania ma numer 0 i ocenę 2\n",
      "student Zosia ma numer 1 i ocenę 2\n",
      "student Kasia ma numer 2 i ocenę 5\n",
      "student Franek ma numer 3 i ocenę 3\n"
     ]
    }
   ],
   "source": [
    "oceny = [2,2,5,3]\n",
    "\n",
    "for numer, student in enumerate(studenci):\n",
    "    print(\"student {} ma numer {} i ocenę {}\".format(student,numer,oceny[numer]))\n",
    "\n",
    "print(\"--\"*20)    \n",
    "for number, (student, ocena) in enumerate(zip(studenci,oceny)):\n",
    "    print(\"student {} ma numer {} i ocenę {}\".format(student,number,ocena))"
   ]
  },
  {
   "cell_type": "code",
   "execution_count": 25,
   "metadata": {},
   "outputs": [],
   "source": [
    "trzy_elementy= [1,2,3]\n",
    "pierwszy,drugi,trzeci= trzy_elementy"
   ]
  },
  {
   "cell_type": "code",
   "execution_count": 27,
   "metadata": {},
   "outputs": [
    {
     "name": "stdout",
     "output_type": "stream",
     "text": [
      "1\n",
      "2\n",
      "3\n",
      "4\n",
      "5\n",
      "6\n",
      "7\n",
      "8\n",
      "9\n"
     ]
    }
   ],
   "source": [
    "n = 1\n",
    "\n",
    "while(n < 10):\n",
    "    print(n)\n",
    "    n+=1"
   ]
  },
  {
   "cell_type": "code",
   "execution_count": 31,
   "metadata": {},
   "outputs": [],
   "source": [
    "def dodaj_dwa(liczba):\n",
    "    return liczba+2\n",
    "\n",
    "def dodaj_trzy(liczba):\n",
    "    return liczba+3\n",
    "\n",
    "def dodaj_dwie_liczby(liczba1,liczba2)\n",
    "    return liczba1+liczba2\n",
    "\n",
    "\n",
    "dodaj_cztery = lambda liczba:liczba+4"
   ]
  },
  {
   "cell_type": "code",
   "execution_count": 32,
   "metadata": {},
   "outputs": [
    {
     "name": "stdout",
     "output_type": "stream",
     "text": [
      "12\n",
      "13\n",
      "14\n"
     ]
    }
   ],
   "source": [
    "funkcje=[dodaj_dwa,dodaj_trzy,dodaj_cztery]\n",
    "\n",
    "jakis_nr= 10\n",
    "\n",
    "for funkcja in funkcje:\n",
    "    print(funkcja(jakis_nr))"
   ]
  },
  {
   "cell_type": "code",
   "execution_count": 35,
   "metadata": {},
   "outputs": [
    {
     "data": {
      "text/plain": [
       "['Ania', 'Zosia', 'Kasia']"
      ]
     },
     "execution_count": 35,
     "metadata": {},
     "output_type": "execute_result"
    }
   ],
   "source": [
    "studenci[0]\n",
    "studenci[1:]\n",
    "studenci[:-1]"
   ]
  },
  {
   "cell_type": "code",
   "execution_count": 3,
   "metadata": {},
   "outputs": [
    {
     "name": "stdout",
     "output_type": "stream",
     "text": [
      "['relax', 'mispy', 'piateczek']\n",
      "wf\n",
      "informatyka\n",
      "mispy\n",
      "piateczek\n"
     ]
    }
   ],
   "source": [
    "#### challenge 0.1\n",
    "\n",
    "zajecia = [\"wf\",\"informatyka\",\"relax\",\"mispy\",\"piateczek\"]\n",
    "\n",
    "dnityg= [\"Pon\",\"Wto\",\"Sro\",\"Czwar\",\"Pio\"]\n",
    "\n",
    "# wyprintuj zajecia od srody do piatku\n",
    "# wyprintuj oprocz srody\n",
    "print(zajecia[2:])\n",
    "for zajecie,dzien_tyg in zip(zajecia,dnityg):\n",
    "    if dzien_tyg != \"Sro\":\n",
    "        print(zajecie)"
   ]
  },
  {
   "cell_type": "code",
   "execution_count": 2,
   "metadata": {},
   "outputs": [
    {
     "name": "stdout",
     "output_type": "stream",
     "text": [
      "['relax', 'mispy', 'piateczek']\n"
     ]
    }
   ],
   "source": [
    "print(zajecia[2:])\n"
   ]
  },
  {
   "cell_type": "code",
   "execution_count": 7,
   "metadata": {},
   "outputs": [
    {
     "data": {
      "text/plain": [
       "2"
      ]
     },
     "execution_count": 7,
     "metadata": {},
     "output_type": "execute_result"
    }
   ],
   "source": [
    "ile_zajec(zajecia[2])"
   ]
  },
  {
   "cell_type": "code",
   "execution_count": null,
   "metadata": {},
   "outputs": [],
   "source": []
  },
  {
   "cell_type": "code",
   "execution_count": 32,
   "metadata": {},
   "outputs": [
    {
     "name": "stdout",
     "output_type": "stream",
     "text": [
      "[('Wto', ['Wf']), ('Pon', ['informatyka', 'nauka czytania']), ('Sro', ['relax', 'jedzenie']), ('Czwar', ['mispy', 'mispy w domu']), ('Pio', ['piateczek', 'praca domowa z mispow', 'Ilovemispy', 'mispy w czasie snu'])]\n",
      "[2, 1, 2, 2, 4]\n"
     ]
    }
   ],
   "source": [
    "#### challenge 0.2\n",
    "\n",
    "zajecia = [[\"informatyka\", \"nauka czytania\"],[\"Wf\"],\n",
    "           [\"relax\", \"jedzenie\"],\n",
    "           [\"mispy\",\"mispy w domu\"],\n",
    "           [\"piateczek\", \"praca domowa z mispow\", \"Ilovemispy\", \"mispy w czasie snu\"]\n",
    "          ]\n",
    "\n",
    "dnityg= [\"Pon\",\"Wto\",\"Sro\",\"Czwar\",\"Pio\"]\n",
    "\n",
    "# zdefiniuj funkcje ktora poda ile jest zajec danego dnia\n",
    "\n",
    "def ile_zajec(lista_dzien):\n",
    "    return len(lista_dzien)\n",
    "\n",
    "# lista_zajec_z_dnia -> ile ich jest\n",
    "\n",
    "# po\n",
    "# posortuj dni po najbardziej zajetych\n",
    "dzien_zajecia= list(zip(dnityg,zajecia))\n",
    "dzien_zajecia = sorted(dzien_zajecia, key= lambda krotka: ile_zajec(krotka[1]))\n",
    "print(dzien_zajecia)\n",
    "\n",
    "\n",
    "# dla kazdego dnia okreslamy ilosc zajec\n",
    "ile_zajec_lista=[]\n",
    "for zajecie in zajecia:\n",
    "    ile_zajec_lista.append(ile_zajec(zajecie))\n",
    "\n",
    "#alternatywnie inny zapis tego samego\n",
    "ile_zajec_lista=[ile_zajec(zajecie) for zajecie in zajecia]\n",
    "    \n",
    "# tworzymy krotke (indeks dnia, ile zajec)    \n",
    "ile_zajec_indeksy=list(enumerate(ile_zajec_lista))\n",
    "    \n",
    "print(ile_zajec_lista)\n",
    "\n",
    "# sortujemy takie pary po ilosci zajec\n",
    "posortowane_ile_zajec= sorted(ile_zajec_indeksy, key= lambda krotka:krotka[1])\n",
    "\n",
    "#indeksy = []\n",
    "#for krotka in posortowane_ile_zajec:\n",
    "#    indeksy.append(krotka[0])\n",
    "\n",
    "#wydostajemy posortowane indeksy (dwie metody)\n",
    "indeksy, _  = zip(*posortowane_ile_zajec)\n",
    "\n",
    "# wykorzystujemy indeksy zeby wyciagnac posortowane dni tygodnia\n",
    "posortowane_ile_zajec=[]\n",
    "for indeks in indeksy:\n",
    "    posortowane_ile_zajec.append(dnityg[indeks])\n",
    "\n",
    "posortowane_ile_zajec=[dnityg[indeks] for indeks in indeksy]\n",
    "    \n",
    "#### challenge 0.3\n",
    "\n",
    "# napisz program ktory zdajdzie dzien z najwieksza iloscia mispow"
   ]
  },
  {
   "cell_type": "code",
   "execution_count": 33,
   "metadata": {},
   "outputs": [
    {
     "data": {
      "text/plain": [
       "['Wto', 'Pon', 'Sro', 'Czwar', 'Pio']"
      ]
     },
     "execution_count": 33,
     "metadata": {},
     "output_type": "execute_result"
    }
   ],
   "source": [
    "posortowane_ile_zajec"
   ]
  },
  {
   "cell_type": "code",
   "execution_count": null,
   "metadata": {},
   "outputs": [],
   "source": []
  },
  {
   "cell_type": "code",
   "execution_count": 51,
   "metadata": {},
   "outputs": [
    {
     "data": {
      "text/plain": [
       "[(1, '11'), (0, '22'), (2, '33'), (3, '100')]"
      ]
     },
     "execution_count": 51,
     "metadata": {},
     "output_type": "execute_result"
    }
   ],
   "source": [
    "len(zajecia)\n",
    "\n",
    "zajecia[4][1]\n",
    "\n",
    "\"Ma\" in \"MojaMaMa\"\n",
    "\n",
    "liczby=[\"22\",\"11\",\"33\",\"100\"]\n",
    "liczby_i_nazwy= [(\"22\",\"dwadziescia dwa\"),\n",
    "                 (\"11\",\"jedenascie\"),\n",
    "        (\"33\",\"trzydziesci trzy\"),(\"100\",\"sto\")]\n",
    "sorted(liczby)\n",
    "\n",
    "sorted(liczby, key=int)\n",
    "\n",
    "liczby_kolejnosc= enumerate(liczby)\n",
    "\n",
    "def czy_jest_jeden(liczba):\n",
    "\n",
    "    if \"1\" in liczba:\n",
    "        return 1\n",
    "    else:\n",
    "        return 0\n",
    "def na_liczbe(krotka):\n",
    "         return int(krotka[0])\n",
    "def na_liczbe_index(krotka):\n",
    "         return int(krotka[1])    \n",
    "sorted(liczby, key=czy_jest_jeden)\n",
    "         \n",
    "sorted(liczby_i_nazwy,key=na_liczbe)\n",
    "\n",
    "sorted(liczby_kolejnosc,key=na_liczbe_index)"
   ]
  },
  {
   "cell_type": "code",
   "execution_count": 48,
   "metadata": {},
   "outputs": [
    {
     "data": {
      "text/plain": [
       "<enumerate at 0x7f5efea012d0>"
      ]
     },
     "execution_count": 48,
     "metadata": {},
     "output_type": "execute_result"
    }
   ],
   "source": [
    "sorted(liczby_kolejnosc,key=)"
   ]
  },
  {
   "cell_type": "code",
   "execution_count": null,
   "metadata": {},
   "outputs": [],
   "source": []
  }
 ],
 "metadata": {
  "kernelspec": {
   "display_name": "Python 3",
   "language": "python",
   "name": "python3"
  },
  "language_info": {
   "codemirror_mode": {
    "name": "ipython",
    "version": 3
   },
   "file_extension": ".py",
   "mimetype": "text/x-python",
   "name": "python",
   "nbconvert_exporter": "python",
   "pygments_lexer": "ipython3",
   "version": "3.8.3"
  }
 },
 "nbformat": 4,
 "nbformat_minor": 2
}
